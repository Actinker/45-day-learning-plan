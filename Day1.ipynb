{
  "nbformat": 4,
  "nbformat_minor": 0,
  "metadata": {
    "colab": {
      "provenance": [],
      "authorship_tag": "ABX9TyNiVMSfAnkEdx1ZY1PoMLZ+",
      "include_colab_link": true
    },
    "kernelspec": {
      "name": "python3",
      "display_name": "Python 3"
    },
    "language_info": {
      "name": "python"
    }
  },
  "cells": [
    {
      "cell_type": "markdown",
      "metadata": {
        "id": "view-in-github",
        "colab_type": "text"
      },
      "source": [
        "<a href=\"https://colab.research.google.com/github/Actinker/45-day-learning-plan/blob/main/Day1.ipynb\" target=\"_parent\"><img src=\"https://colab.research.google.com/assets/colab-badge.svg\" alt=\"Open In Colab\"/></a>"
      ]
    },
    {
      "cell_type": "markdown",
      "source": [
        "# Day 1 – Python Foundations + Git Setup"
      ],
      "metadata": {
        "id": "Bn8Cef-Bg2aF"
      }
    },
    {
      "cell_type": "markdown",
      "source": [
        "## Tasks:\n",
        "1. Git + GitHub Setup (1–1.5 hrs)\n",
        "   - Create a GitHub account (if not done already)\n",
        "\n",
        "   - Install Git locally\n",
        "\n",
        "   - Initialize your first repository (name it ai-journey or something meaningful)\n",
        "\n",
        "   - Learn and try:\n",
        "\n",
        "   - git init\n",
        "\n",
        "   - git add, git commit, git push\n",
        "\n",
        "   - Clone and push to your GitHub repo\n",
        "\n",
        "   - Resources:\n",
        "\n",
        "   - GitHub Hello World Tutorial\n",
        "\n",
        "   - YouTube: Git & GitHub Crash Course – Traversy Media\n",
        "\n",
        "2. Python Refresher (3 hrs)\n",
        "   - Use Google Colab or Jupyter Notebook.\n",
        "\n",
        "   - Topics to Practice:\n",
        "\n",
        "   - Data types, control structures, functions\n",
        "\n",
        "   - List, dict, set, tuple operations\n",
        "\n",
        "   - File handling (open(), read/write to .txt/.csv)\n",
        "\n",
        "   - Exception handling\n",
        "\n",
        "   - Practice Sites:\n",
        "\n",
        "   - W3Schools Python Tutorial\n",
        "\n",
        "   - Real Python – Beginner Guide\n",
        "\n",
        "   - Practice: HackerRank Python Challenges"
      ],
      "metadata": {
        "id": "UvXL4UOFhQM_"
      }
    },
    {
      "cell_type": "code",
      "source": [
        "# ===============================\n",
        "# Python Basics\n",
        "# ==============================="
      ],
      "metadata": {
        "id": "sfZEAiwCg4zS"
      },
      "execution_count": 1,
      "outputs": []
    },
    {
      "cell_type": "code",
      "source": [
        "print(\"Hello, AI World!\")"
      ],
      "metadata": {
        "colab": {
          "base_uri": "https://localhost:8080/"
        },
        "id": "B1MsuGOD6duU",
        "outputId": "934e8d85-bb30-40e5-92fa-88681e95b6b7"
      },
      "execution_count": 2,
      "outputs": [
        {
          "output_type": "stream",
          "name": "stdout",
          "text": [
            "Hello, AI World!\n"
          ]
        }
      ]
    },
    {
      "cell_type": "code",
      "source": [
        "# Variables, Data Types\n",
        "name = \"AI Student\"\n",
        "age = 21\n",
        "is_learning = True\n",
        "print(f\"{name} is {age} years old and learning: {is_learning}\")"
      ],
      "metadata": {
        "colab": {
          "base_uri": "https://localhost:8080/"
        },
        "id": "bV3tiQp26w0q",
        "outputId": "4cebfde1-208e-4a99-ee94-ffb19563171b"
      },
      "execution_count": 3,
      "outputs": [
        {
          "output_type": "stream",
          "name": "stdout",
          "text": [
            "AI Student is 21 years old and learning: True\n"
          ]
        }
      ]
    },
    {
      "cell_type": "code",
      "source": [
        "# Lists, Loops, Functions\n",
        "fruits = [\"apple\", \"banana\", \"mango\"]\n",
        "for fruit in fruits:\n",
        "    print(fruit.upper())"
      ],
      "metadata": {
        "colab": {
          "base_uri": "https://localhost:8080/"
        },
        "id": "HBDGUFW661mf",
        "outputId": "6c721d55-8dfa-4353-9957-4e3681f7ff1c"
      },
      "execution_count": 4,
      "outputs": [
        {
          "output_type": "stream",
          "name": "stdout",
          "text": [
            "APPLE\n",
            "BANANA\n",
            "MANGO\n"
          ]
        }
      ]
    },
    {
      "cell_type": "code",
      "source": [
        "def square(n):\n",
        "    return n * n\n",
        "\n",
        "print(\"Square of 5:\", square(5))"
      ],
      "metadata": {
        "colab": {
          "base_uri": "https://localhost:8080/"
        },
        "id": "uAOj-CSv65re",
        "outputId": "f0a8904c-2177-4e29-b6a9-c9482a5d0357"
      },
      "execution_count": 5,
      "outputs": [
        {
          "output_type": "stream",
          "name": "stdout",
          "text": [
            "Square of 5: 25\n"
          ]
        }
      ]
    },
    {
      "cell_type": "code",
      "source": [
        "# ===============================\n",
        "# NumPy Basics\n",
        "# ==============================="
      ],
      "metadata": {
        "id": "xX__mTyw69y5"
      },
      "execution_count": 6,
      "outputs": []
    },
    {
      "cell_type": "code",
      "source": [
        "import numpy as np"
      ],
      "metadata": {
        "id": "vq-k5XdD7AxE"
      },
      "execution_count": 7,
      "outputs": []
    },
    {
      "cell_type": "code",
      "source": [
        "# Array creation\n",
        "arr = np.array([1, 2, 3, 4])\n",
        "print(\"Array:\", arr)"
      ],
      "metadata": {
        "colab": {
          "base_uri": "https://localhost:8080/"
        },
        "id": "kYCH7Vf87F06",
        "outputId": "ec8f8cfd-8112-4a5c-8b67-2416e4cb343d"
      },
      "execution_count": 8,
      "outputs": [
        {
          "output_type": "stream",
          "name": "stdout",
          "text": [
            "Array: [1 2 3 4]\n"
          ]
        }
      ]
    },
    {
      "cell_type": "code",
      "source": [
        "# Array operations\n",
        "print(\"Add 5:\", arr + 5)\n",
        "print(\"Mean:\", np.mean(arr))\n",
        "print(\"Reshape:\", np.arange(9).reshape(3, 3))"
      ],
      "metadata": {
        "colab": {
          "base_uri": "https://localhost:8080/"
        },
        "id": "YvII-gZ_7JBj",
        "outputId": "adc153dc-05cb-4f80-f8c9-81732a52ead3"
      },
      "execution_count": 9,
      "outputs": [
        {
          "output_type": "stream",
          "name": "stdout",
          "text": [
            "Add 5: [6 7 8 9]\n",
            "Mean: 2.5\n",
            "Reshape: [[0 1 2]\n",
            " [3 4 5]\n",
            " [6 7 8]]\n"
          ]
        }
      ]
    },
    {
      "cell_type": "code",
      "source": [
        "# ===============================\n",
        "# Pandas Basics\n",
        "# ==============================="
      ],
      "metadata": {
        "id": "Z-wnY3xl7LV0"
      },
      "execution_count": 10,
      "outputs": []
    },
    {
      "cell_type": "code",
      "source": [
        "import pandas as pd"
      ],
      "metadata": {
        "id": "NVlSLI8v7OgJ"
      },
      "execution_count": 11,
      "outputs": []
    },
    {
      "cell_type": "code",
      "source": [
        "# Create DataFrame\n",
        "data = {'Name': ['Alice', 'Bob', 'Charlie'],\n",
        "        'Score': [85, 90, 78]}\n",
        "df = pd.DataFrame(data)\n",
        "print(\"DataFrame:\\n\", df)\n",
        "print(\"Describe:\\n\", df.describe())"
      ],
      "metadata": {
        "colab": {
          "base_uri": "https://localhost:8080/"
        },
        "id": "omoz1ZF07QlH",
        "outputId": "62ca5a5c-9aa5-46ba-8a67-ae439e55e697"
      },
      "execution_count": 13,
      "outputs": [
        {
          "output_type": "stream",
          "name": "stdout",
          "text": [
            "DataFrame:\n",
            "       Name  Score\n",
            "0    Alice     85\n",
            "1      Bob     90\n",
            "2  Charlie     78\n",
            "Describe:\n",
            "            Score\n",
            "count   3.000000\n",
            "mean   84.333333\n",
            "std     6.027714\n",
            "min    78.000000\n",
            "25%    81.500000\n",
            "50%    85.000000\n",
            "75%    87.500000\n",
            "max    90.000000\n"
          ]
        }
      ]
    },
    {
      "cell_type": "code",
      "source": [
        "# Filter\n",
        "high_scores = df[df['Score'] > 80]\n",
        "print(\"High Scores:\\n\", high_scores)"
      ],
      "metadata": {
        "colab": {
          "base_uri": "https://localhost:8080/"
        },
        "id": "cCH91ksl7UBU",
        "outputId": "c2fc63e3-10ee-4baf-8c63-a28dc38ccc19"
      },
      "execution_count": 14,
      "outputs": [
        {
          "output_type": "stream",
          "name": "stdout",
          "text": [
            "High Scores:\n",
            "     Name  Score\n",
            "0  Alice     85\n",
            "1    Bob     90\n"
          ]
        }
      ]
    },
    {
      "cell_type": "code",
      "source": [
        "# Load sample dataset\n",
        "url = 'https://raw.githubusercontent.com/mwaskom/seaborn-data/master/iris.csv'\n",
        "iris = pd.read_csv(url)\n",
        "print(\"Iris Dataset Head:\\n\", iris.head())\n",
        "\n",
        "# Visualize a column\n",
        "import matplotlib.pyplot as plt\n",
        "\n",
        "plt.hist(iris['sepal_length'])\n",
        "plt.title(\"Sepal Length Distribution\")\n",
        "plt.xlabel(\"Length\")\n",
        "plt.ylabel(\"Count\")\n",
        "plt.show()"
      ],
      "metadata": {
        "colab": {
          "base_uri": "https://localhost:8080/",
          "height": 599
        },
        "id": "fI4ZTnRZ7bbl",
        "outputId": "9a5f8002-f35c-466d-c8df-3cc36fcd97df"
      },
      "execution_count": 16,
      "outputs": [
        {
          "output_type": "stream",
          "name": "stdout",
          "text": [
            "Iris Dataset Head:\n",
            "    sepal_length  sepal_width  petal_length  petal_width species\n",
            "0           5.1          3.5           1.4          0.2  setosa\n",
            "1           4.9          3.0           1.4          0.2  setosa\n",
            "2           4.7          3.2           1.3          0.2  setosa\n",
            "3           4.6          3.1           1.5          0.2  setosa\n",
            "4           5.0          3.6           1.4          0.2  setosa\n"
          ]
        },
        {
          "output_type": "display_data",
          "data": {
            "text/plain": [
              "<Figure size 640x480 with 1 Axes>"
            ],
            "image/png": "[encoded data removed]"
          },
          "metadata": {}
        }
      ]
    },
    {
      "cell_type": "code",
      "source": [],
      "metadata": {
        "id": "4zDj0g1t7eQE"
      },
      "execution_count": null,
      "outputs": []
    }
  ]
}